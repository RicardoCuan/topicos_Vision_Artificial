{
 "cells": [
  {
   "cell_type": "markdown",
   "metadata": {},
   "source": [
    "<div align=\"center\">\n",
    "<h3>Universidad Tecnológica de Panamá <br/>Campus Victor Levi Sasso<br/>Facultad de Ingeniería en Sistemas Computacionales<br/>Licenciatura en Ingeniería en Sistemas y Computación<br/>Tópicos Especiales I - Visión Artificial</h3>\n",
    "<h3>Actividad - Máquinas de Vectores de Soporte</h3>\n",
    "</div>"
   ]
  },
  {
   "cell_type": "markdown",
   "metadata": {},
   "source": [
    "**Asignatura:** Tópicos Especiales - Visión Artificial \n",
    "\n",
    "**Código:** 0756\n",
    "\n",
    "**Profesor:** Edmanuel Cruz\n",
    "\n",
    "**Estudiante:** Ricardo Cuan 8-941-913"
   ]
  },
  {
   "cell_type": "markdown",
   "metadata": {},
   "source": [
    "<div align=\"center\">\n",
    "    <h1>Procedimiento</h1>\n",
    "</div>"
   ]
  },
  {
   "cell_type": "markdown",
   "metadata": {},
   "source": [
    "### Paso 1: Setup\n",
    "\n",
    "Se necesita instalar de ante mano las librerías de:\n",
    "\n",
    "1. numpy\n",
    "2. matplotlib\n",
    "3. sklearn"
   ]
  },
  {
   "cell_type": "code",
   "execution_count": 1,
   "metadata": {},
   "outputs": [],
   "source": [
    "#Se importan la librerias a utilizar\n",
    "import numpy as np\n",
    "import matplotlib.pyplot as plt\n",
    "from sklearn import datasets\n",
    "\n",
    "#Importamos los datos de la misma librería de scikit-learn\n",
    "boston = datasets.load_boston()"
   ]
  },
  {
   "cell_type": "markdown",
   "metadata": {},
   "source": [
    "### Paso 2: Preparar la data vectores de soporte regresión\n",
    "\n",
    "Se debe de separar los datos en “x” y “y”, a estas variables las vamos a llamar X_svr y y_svr, la primera será igual a la columna 6 del dataset que previamente procesamos, por su parte y_svr será igual a la columna de target. Grafiquemos estos datos para observar con más detalle los datos que esteremos manejando."
   ]
  },
  {
   "cell_type": "code",
   "execution_count": 2,
   "metadata": {},
   "outputs": [
    {
     "data": {
      "image/png": "[encoded data removed]",
      "text/plain": [
       "<Figure size 432x288 with 1 Axes>"
      ]
     },
     "metadata": {
      "needs_background": "light"
     },
     "output_type": "display_data"
    }
   ],
   "source": [
    "#Seleccionamos solamente la columna 6 del dataset\n",
    "X_svr = boston.data[:, np.newaxis, 5]\n",
    "\n",
    "#Defino los datos correspondientes a las etiquetas\n",
    "y_svr = boston.target\n",
    "\n",
    "#Graficamos los datos correspondientes\n",
    "plt.scatter(X_svr, y_svr)\n",
    "plt.show()"
   ]
  },
  {
   "cell_type": "markdown",
   "metadata": {},
   "source": [
    "Como podemos observar estos datos tienen un comportamiento lineal, por lo que acá implementaremos el algoritmo de Vectores de Soporte Regresión, con un kernel línea, de la misma forma que lo explicamos en la teoría."
   ]
  },
  {
   "cell_type": "markdown",
   "metadata": {},
   "source": [
    "### Parte 3: Implementación de vectores de soporte regresión\n",
    "\n",
    "Procedemos ahora a separar los datos en entrenamiento y prueba, para ello utilizamos la instrucción train_test_split."
   ]
  },
  {
   "cell_type": "code",
   "execution_count": 3,
   "metadata": {},
   "outputs": [],
   "source": [
    "from sklearn.model_selection import train_test_split\n",
    "\n",
    "# Separo los datos de \"train\" en entrenamiento y prueba para probar los algoritmos\n",
    "X_train, X_test, y_train, y_test = train_test_split(X_svr, y_svr, test_size=0.2)\n",
    "from sklearn.svm import SVR"
   ]
  },
  {
   "cell_type": "markdown",
   "metadata": {},
   "source": [
    "Realizado esto procedemos a definir el algoritmo. Por lo que lo primero que hacemos es importar SVR desde el modulo sklearn punto svm."
   ]
  },
  {
   "cell_type": "code",
   "execution_count": 4,
   "metadata": {},
   "outputs": [],
   "source": [
    "# Defino el algoritmo a utilizar\n",
    "svr = SVR(kernel='linear', C=1.0, epsilon=0.2)"
   ]
  },
  {
   "cell_type": "markdown",
   "metadata": {},
   "source": [
    "Una vez realizado esto podemos proceder a definir el algoritmo que lo vamos a llamar svr. Acá vamos a detenernos un momento para explicar la configuración que le estamos dando."
   ]
  },
  {
   "cell_type": "markdown",
   "metadata": {},
   "source": [
    "Definido todas estas variables, ahora si podemos entrenar el algoritmo utilizando la instrucción fit y los datos de entrenamiento."
   ]
  },
  {
   "cell_type": "code",
   "execution_count": 5,
   "metadata": {},
   "outputs": [
    {
     "data": {
      "text/plain": [
       "SVR(C=1.0, cache_size=200, coef0=0.0, degree=3, epsilon=0.2, gamma='scale',\n",
       "    kernel='linear', max_iter=-1, shrinking=True, tol=0.001, verbose=False)"
      ]
     },
     "execution_count": 5,
     "metadata": {},
     "output_type": "execute_result"
    }
   ],
   "source": [
    "# Entreno el modelo\n",
    "svr.fit(X_train, y_train)"
   ]
  },
  {
   "cell_type": "markdown",
   "metadata": {},
   "source": [
    "Seguidamente realizamos una predicción utilizando los datos de prueba.\n",
    "\n"
   ]
  },
  {
   "cell_type": "code",
   "execution_count": 6,
   "metadata": {},
   "outputs": [],
   "source": [
    "# Realizo una predicción\n",
    "Y_pred = svr.predict(X_test)"
   ]
  },
  {
   "cell_type": "markdown",
   "metadata": {},
   "source": [
    "Visualicemos los datos de entrenamiento junto con el modelo, para ello utilizamos las intrucciones que se encuentran dentro de la librería matplotlib.\n",
    "\n"
   ]
  },
  {
   "cell_type": "code",
   "execution_count": 7,
   "metadata": {},
   "outputs": [
    {
     "data": {
      "image/png": "[encoded data removed]",
      "text/plain": [
       "<Figure size 432x288 with 1 Axes>"
      ]
     },
     "metadata": {
      "needs_background": "light"
     },
     "output_type": "display_data"
    },
    {
     "name": "stdout",
     "output_type": "stream",
     "text": [
      "DATOS DEL MODELO VECTORES DE SOPORTE REGRESIÓN\n",
      "\n",
      "Precisión del modelo:\n",
      "0.5246825210471366\n"
     ]
    }
   ],
   "source": [
    "# Graficamos los datos junto con el modelo\n",
    "plt.scatter(X_test, y_test)\n",
    "plt.plot(X_test, Y_pred, color='red', linewidth=3)\n",
    "plt.show()\n",
    "print('DATOS DEL MODELO VECTORES DE SOPORTE REGRESIÓN')\n",
    "print()\n",
    "print('Precisión del modelo:')\n",
    "print(svr.score(X_train, y_train))"
   ]
  }
 ],
 "metadata": {
  "kernelspec": {
   "display_name": "Python 3",
   "language": "python",
   "name": "python3"
  },
  "language_info": {
   "codemirror_mode": {
    "name": "ipython",
    "version": 3
   },
   "file_extension": ".py",
   "mimetype": "text/x-python",
   "name": "python",
   "nbconvert_exporter": "python",
   "pygments_lexer": "ipython3",
   "version": "3.7.6"
  }
 },
 "nbformat": 4,
 "nbformat_minor": 4
}
