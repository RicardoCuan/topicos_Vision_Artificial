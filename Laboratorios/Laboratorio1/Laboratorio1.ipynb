{
 "cells": [
  {
   "cell_type": "markdown",
   "metadata": {},
   "source": [
    "<div  align=\"center\"><h1>Laboratorio 1 - Introducción a OpenCV</h1></div>"
   ]
  },
  {
   "cell_type": "markdown",
   "metadata": {},
   "source": [
    "**Asignatura:** Tópicos Especiales - Visión Artificial \n",
    "\n",
    "**Código:** 0756\n",
    "\n",
    "**Profesor:** Edmanuel Cruz\n",
    "\n",
    "**Estudiante:** Ricardo Cuan 8-941-913"
   ]
  },
  {
   "cell_type": "markdown",
   "metadata": {},
   "source": [
    "### Tabla de contenido\n",
    "\n",
    "* [1. Introducción](#1.-Introducción)\n",
    "    * [1.1 Creación del entorno con Jupyter](#1.1--Creación-del-entorno-con-Jupyter)\n",
    "    * [1.2 Trabajo inicial con imagenes](#1.2-Trabajo-inicial-con-imágenes)\n",
    "    * [1.3 Obtener información de un píxel](#1.3-Obtener-información-de-un-píxel)\n",
    "    * [1.4 Entregable de la Sección](#1.4-Entregable-de-la-Sección)\n",
    "    * [1.5 Resultados de los entregables](#1.5-Resultados-de-los-entregables)"
   ]
  },
  {
   "cell_type": "markdown",
   "metadata": {},
   "source": [
    "## 1. Introduccióna OpenCV"
   ]
  },
  {
   "cell_type": "markdown",
   "metadata": {},
   "source": [
    "## 1.1  Creación del entorno con Jupyter"
   ]
  },
  {
   "cell_type": "markdown",
   "metadata": {},
   "source": [
    "## 1.2 Trabajo inicial con imágenes"
   ]
  },
  {
   "cell_type": "markdown",
   "metadata": {},
   "source": [
    "En esta sección se mostrará como leer una imagen desde archivo, como cambiar los espacios de color de una imagen y \n",
    "mostrar las im´agenes que ha sido cargadas por OpenCV"
   ]
  },
  {
   "cell_type": "markdown",
   "metadata": {},
   "source": [
    "1. En nuestra primera celda copiamos la siguiente línea de importación, esta importará OpenCV en nuestro código."
   ]
  },
  {
   "cell_type": "code",
   "execution_count": 1,
   "metadata": {},
   "outputs": [],
   "source": [
    "import cv2"
   ]
  },
  {
   "cell_type": "markdown",
   "metadata": {},
   "source": [
    "2. En una nueva celda copiamos el siguiente código:"
   ]
  },
  {
   "cell_type": "code",
   "execution_count": 2,
   "metadata": {},
   "outputs": [
    {
     "name": "stdout",
     "output_type": "stream",
     "text": [
      "Dimensiones de la imagen - Alto: 1022, Ancho: 767, Canales: 3\n",
      "Numero total pixeles: 2351622\n",
      "Tipo de datos de la imagen: uint8\n"
     ]
    }
   ],
   "source": [
    "# leer imagen\n",
    "im = cv2.imread('img/tower.jpg')\n",
    "\n",
    "# Dimensiones de la Imagen\n",
    "h,w,c = im.shape\n",
    "print(\"Dimensiones de la imagen - Alto: {}, Ancho: {}, Canales: {}\".format(h, w, c))\n",
    "\n",
    "# Numero total de Píxeles\n",
    "tot_pix = im.size\n",
    "print(\"Numero total pixeles: {}\".format(tot_pix))\n",
    "\n",
    "# Obtener el tipo de datos de la imagen\n",
    "image_dtype = im.dtype\n",
    "\n",
    "# Imprimir tipo de datos de la imagen:\n",
    "print(\"Tipo de datos de la imagen: {}\".format(image_dtype))\n"
   ]
  },
  {
   "cell_type": "markdown",
   "metadata": {},
   "source": [
    "3. Este fragmento de código permite leer la imagen tower.jpg dentro de la carpeta img de nuestra carpeta."
   ]
  },
  {
   "cell_type": "markdown",
   "metadata": {},
   "source": [
    "4. El siguiente código obtiene las dimensiones de la imagen (alto, ancho, profundidad), el\n",
    "numero de píxeles y el tipo de dato, para después imprimir cada dato, con su respectiva leyenda.\n"
   ]
  },
  {
   "cell_type": "markdown",
   "metadata": {},
   "source": [
    "5.  Si deseamos convertir nuestra imagen a escala de grises podemos escribir lo siguiente:"
   ]
  },
  {
   "cell_type": "code",
   "execution_count": 3,
   "metadata": {},
   "outputs": [],
   "source": [
    "#Crear una versión en escala de grises\n",
    "gray = cv2.cvtColor(im,cv2.COLOR_BGR2GRAY)"
   ]
  },
  {
   "cell_type": "markdown",
   "metadata": {},
   "source": [
    "6. Para mostrar por pantalla la imagen cargada se utilizará la función cv2.imshow, la cual\n",
    "recibe como parámetros un título para la ventana y la imagen a mostrar."
   ]
  },
  {
   "cell_type": "code",
   "execution_count": 4,
   "metadata": {},
   "outputs": [],
   "source": [
    "# Mostrar imagen Original\n",
    "cv2.imshow(\"Imagen Orginal\", im)\n",
    "\n",
    "# Mostrar Imagen en Escalas de Grises\n",
    "cv2.imshow(\"Imagen en Escala de Grises\", gray)\n",
    "\n",
    "# Establecer espera\n",
    "cv2.waitKey(0)\n",
    "\n",
    "# Para destruir todas las ventanas creadas\n",
    "cv2.destroyAllWindows()"
   ]
  },
  {
   "cell_type": "markdown",
   "metadata": {},
   "source": [
    "7. La función **cv2.waitKey()** establece un tiempo de espera para un evento del teclado.\n",
    "\n",
    "Esta función se utiliza para mantener el visor de la imagen en pantalla. Recibe el tiempo de espera en **milisegundos**. \n",
    "Si una tecla se presiona en el tiempo definido, el programa continua su ejecución. Cuando recibe 0 como parámetro el \n",
    "sistema espera hasta que se presione una tecla."
   ]
  },
  {
   "cell_type": "markdown",
   "metadata": {},
   "source": [
    "8. La función **cv2.destroyAllWindows()** destruye todas las ventanas o visores que se han creado. \n",
    "Para una correcta ejecución de su programa siempre agregue estas dos funciones cuando trabaje con ventanas."
   ]
  },
  {
   "cell_type": "markdown",
   "metadata": {},
   "source": [
    "9. El utilizar este visor muestra la imagen a tamaño real, por lo cual en ocasiones puede ser más grande que la pantalla, \n",
    "por lo cual una estrategia es escalar la imagen para que se pueda ver en la pantalla. Para esto se agrega el siguiente código:"
   ]
  },
  {
   "cell_type": "code",
   "execution_count": 5,
   "metadata": {},
   "outputs": [],
   "source": [
    "# Nuevo Tamaño\n",
    "dsize = (int(w*0.250), int(h*0.250))\n",
    "\n",
    "# escalar imagen\n",
    "gray_rz = cv2.resize(gray, dsize)\n",
    "im_rz = cv2.resize(im, dsize)\n",
    "cv2.imshow(\"Imagen en Escala de Grises Escalada\", gray_rz )\n",
    "cv2.imshow(\"Imagen Orginal Escalada\", im_rz)\n",
    "cv2.waitKey(0)\n",
    "\n",
    "# Para destruir todas las ventanas creadas\n",
    "cv2.destroyAllWindows()"
   ]
  },
  {
   "cell_type": "markdown",
   "metadata": {},
   "source": [
    "10. En esta definimos una nueva dimensión con la función cv2.resize, la cual recibe la imagen y las nuevas dimensiones \n",
    "y crea una nueva versión de la imagen pero con el tamaño definido."
   ]
  },
  {
   "cell_type": "markdown",
   "metadata": {},
   "source": [
    "11. Si deseamos almacenar las imágenes modificadas, utilizamos el siguiente código:"
   ]
  },
  {
   "cell_type": "code",
   "execution_count": 6,
   "metadata": {},
   "outputs": [
    {
     "data": {
      "text/plain": [
       "False"
      ]
     },
     "execution_count": 6,
     "metadata": {},
     "output_type": "execute_result"
    }
   ],
   "source": [
    "# guardar imagen\n",
    "cv2.imwrite(\"out/gray.png\",gray)\n",
    "cv2.imwrite(\"out/tower2.png\",im_rz)"
   ]
  },
  {
   "cell_type": "markdown",
   "metadata": {},
   "source": [
    "12. Esta función recibe la ruta nueva donde se guardará la imagen y también el objeto imagen que modificando"
   ]
  },
  {
   "cell_type": "markdown",
   "metadata": {},
   "source": [
    "## 1.3 Obtener información de un píxel"
   ]
  },
  {
   "cell_type": "markdown",
   "metadata": {},
   "source": [
    "1. OpenCV permite acceder a los valores puntuales de color de un píxel utilizando sus\n",
    "coordenadas, esto retornará una arreglo con los valores (Blue, Green, Red)."
   ]
  },
  {
   "cell_type": "markdown",
   "metadata": {},
   "source": [
    "2. Utilizando el código de la sección anterior podemos obtener los valores de un píxel para la imagen en memoria, \n",
    "de la siguiente manera:"
   ]
  },
  {
   "cell_type": "code",
   "execution_count": 7,
   "metadata": {},
   "outputs": [
    {
     "name": "stdout",
     "output_type": "stream",
     "text": [
      "Pixel (6,40) - Rojo: 190, Verde: 184, Azul: 168\n"
     ]
    }
   ],
   "source": [
    "# Obtener colores de un píxel\n",
    "(b, g, r) = im[6, 40]\n",
    "\n",
    "# Imprimir los valores:\n",
    "print(\"Pixel (6,40) - Rojo: {}, Verde: {}, Azul: {}\".format(r, g, b))"
   ]
  },
  {
   "cell_type": "markdown",
   "metadata": {},
   "source": [
    "3. Se puede también acceder de manera individual a un canal\n",
    "\n",
    "\n",
    "* Canal Azul(B) valor → 0\n",
    "* Canal Verde(G) valor → 1\n",
    "* Canal Rojo (R) valor → 2"
   ]
  },
  {
   "cell_type": "code",
   "execution_count": 8,
   "metadata": {},
   "outputs": [
    {
     "name": "stdout",
     "output_type": "stream",
     "text": [
      "Pixel (6,40) - Azul: 168\n"
     ]
    }
   ],
   "source": [
    "# obtener información de un canal\n",
    "b = im[6, 40, 0]\n",
    "print(\"Pixel (6,40) - Azul: {}\".format(b))"
   ]
  },
  {
   "cell_type": "markdown",
   "metadata": {},
   "source": [
    "4. De la misma manera en la cual obtenemos la información de color de un píxel especifico,\n",
    "es posible modificar el color de un punto en la imagen usando el siguiente código, se\n",
    "debe usar el formato (b, g, r) para indicar el nuevo color."
   ]
  },
  {
   "cell_type": "code",
   "execution_count": 9,
   "metadata": {},
   "outputs": [
    {
     "name": "stdout",
     "output_type": "stream",
     "text": [
      "Píxel (6,40) - Rojo: 255, Verde: 0, Azul: 0\n"
     ]
    }
   ],
   "source": [
    "# Colocar un píxel en rojo\n",
    "im_rz[6, 40] = (0, 0, 255)\n",
    "\n",
    "# Obtener el valor del píxel (x=40, y=6) después de su modificación\n",
    "(b, g, r) = im_rz[6, 40]\n",
    "print(\"Píxel (6,40) - Rojo: {}, Verde: {}, Azul: {}\".format(r, g, b))\n",
    "cv2.imshow(\"Modificación de Píxel\", im_rz)\n",
    "cv2.waitKey(0)\n",
    "\n",
    "# Para destruir todas las ventanas creadas\n",
    "cv2.destroyAllWindows()"
   ]
  },
  {
   "cell_type": "markdown",
   "metadata": {},
   "source": [
    "5. Es posible también seleccionar una sección o parche de la imagen en este caso se definen\n",
    "el rango de píxeles a tomar tanto en xb y yb, lo cual se puede hacer de la siguiente manera:"
   ]
  },
  {
   "cell_type": "code",
   "execution_count": 10,
   "metadata": {},
   "outputs": [
    {
     "data": {
      "text/plain": [
       "-1"
      ]
     },
     "execution_count": 10,
     "metadata": {},
     "output_type": "execute_result"
    }
   ],
   "source": [
    "# En este ejemplo utilizamos la esquina sup. izq de la imagen\n",
    "roi_izq_sup = im_rz[0:50, 0:50]\n",
    "\n",
    "# Mostramos esta región de interés (ROI):\n",
    "cv2.imshow(\"Esquina Superior Izquierda Original\", roi_izq_sup)\n",
    "cv2.waitKey(0)\n",
    "\n",
    "# Se copia este parche a otra zona de la imagen\n",
    "im_rz[20:70, 20:70] = roi_izq_sup\n",
    "\n",
    "# Mostrar imagen modificada\n",
    "cv2.imshow(\"Imagen modificada \", im_rz)\n",
    "cv2.waitKey(0)"
   ]
  },
  {
   "cell_type": "markdown",
   "metadata": {},
   "source": [
    "6. Utilizando el concepto de parche, podemos cambiar el color de todos los píxeles dentro\n",
    "de un área de la imagen, como se ve en el siguiente código"
   ]
  },
  {
   "cell_type": "code",
   "execution_count": 11,
   "metadata": {},
   "outputs": [],
   "source": [
    "# Cambiar el color de una zona a azul\n",
    "im_rz[0:50, 0:50] = (255, 0, 0)\n",
    "\n",
    "# Mostrar imagen modificada\n",
    "cv2.imshow(\"Imagen Modificada\", im_rz)\n",
    "cv2.waitKey(0)\n",
    "cv2.destroyAllWindows()"
   ]
  },
  {
   "cell_type": "markdown",
   "metadata": {},
   "source": [
    "## 1.4 Entregable de la Sección"
   ]
  },
  {
   "cell_type": "markdown",
   "metadata": {},
   "source": [
    "Para esta sección en su informe debe incluir la modificación de una imagen de su propiedad. En dicha imagen se deben realizar las siguientes operaciones:\n",
    "\n",
    "1. 1 modificación de color mediante la técnica del parche, el área modificar debe\n",
    "tener un forma cuadrada y ubicarse en el centro de la imagen.\n",
    "\n",
    "2. 1 modificación de color mediante la técnica del parche de forma cuadrada ubicada\n",
    "en la esquina inferior derecha con el siguiente color (24, 185, 128) .\n",
    "\n",
    "3. Crear un parche de una zona cuadrada de la imagen y ubicarlo en la esquina\n",
    "superior derecha de la imagen.\n",
    "\n",
    "4. Todas las modificaciones se deben ver en una sola imagen"
   ]
  },
  {
   "cell_type": "markdown",
   "metadata": {},
   "source": [
    "## 1.5 Resultados de los entregables"
   ]
  },
  {
   "cell_type": "code",
   "execution_count": null,
   "metadata": {},
   "outputs": [],
   "source": []
  }
 ],
 "metadata": {
  "kernelspec": {
   "display_name": "Python 3",
   "language": "python",
   "name": "python3"
  },
  "language_info": {
   "codemirror_mode": {
    "name": "ipython",
    "version": 3
   },
   "file_extension": ".py",
   "mimetype": "text/x-python",
   "name": "python",
   "nbconvert_exporter": "python",
   "pygments_lexer": "ipython3",
   "version": "3.7.6"
  }
 },
 "nbformat": 4,
 "nbformat_minor": 4
}
